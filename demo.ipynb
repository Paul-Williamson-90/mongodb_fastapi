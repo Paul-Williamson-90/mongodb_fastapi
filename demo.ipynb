{
 "cells": [
  {
   "cell_type": "code",
   "execution_count": 3,
   "metadata": {},
   "outputs": [
    {
     "name": "stdout",
     "output_type": "stream",
     "text": [
      "{'_id': ObjectId('6648d4008b4f2dae988cde04'), 'name': 'John', 'age': 30}\n"
     ]
    }
   ],
   "source": [
    "from pymongo import MongoClient\n",
    "\n",
    "client = MongoClient(\"mongodb://localhost:27017/\")\n",
    "db = client[\"demo_db\"]\n",
    "collection = db[\"demo_collection\"]\n",
    "\n",
    "collection.insert_one({\"name\": \"John\", \"age\": 30})\n",
    "\n",
    "print(collection.find_one({\"name\": \"John\"}))"
   ]
  },
  {
   "cell_type": "code",
   "execution_count": 30,
   "metadata": {},
   "outputs": [
    {
     "name": "stdout",
     "output_type": "stream",
     "text": [
      "{'message': 'Data inserted successfully'}\n",
      "{'message': 'Data inserted successfully'}\n"
     ]
    }
   ],
   "source": [
    "import requests\n",
    "\n",
    "data = {\"data\": {\"name\": \"John\", \"age\": 30}}\n",
    "response = requests.post(\"http://localhost:8000/post/\", json=data)\n",
    "print(response.json())\n",
    "\n",
    "data = {\"data\": [{\"name\": \"John\", \"age\": 30}, {\"name\": \"Jane\", \"age\": 25}]}\n",
    "response = requests.post(\"http://localhost:8000/post/\", json=data)\n",
    "print(response.json())"
   ]
  },
  {
   "cell_type": "code",
   "execution_count": 32,
   "metadata": {},
   "outputs": [
    {
     "name": "stdout",
     "output_type": "stream",
     "text": [
      "{'message': 'pong'}\n"
     ]
    }
   ],
   "source": [
    "response = requests.get(\"http://localhost:8000/ping/\")\n",
    "print(response.json())"
   ]
  },
  {
   "cell_type": "code",
   "execution_count": 33,
   "metadata": {},
   "outputs": [
    {
     "name": "stdout",
     "output_type": "stream",
     "text": [
      "{'data': [{'_id': '6648de75c4236336391ede05', 'name': 'John', 'age': 30}, {'_id': '6648de75c4236336391ede06', 'name': 'John', 'age': 30}, {'_id': '6648de75c4236336391ede07', 'name': 'Jane', 'age': 25}, {'_id': '6648e010a02c3e792688733a', 'name': 'John', 'age': 30}, {'_id': '6648e010a02c3e792688733b', 'name': 'John', 'age': 30}, {'_id': '6648e010a02c3e792688733c', 'name': 'Jane', 'age': 25}]}\n"
     ]
    }
   ],
   "source": [
    "response = requests.get(\"http://localhost:8000/get_all_data/\")\n",
    "print(response.json())"
   ]
  },
  {
   "cell_type": "code",
   "execution_count": 36,
   "metadata": {},
   "outputs": [
    {
     "name": "stdout",
     "output_type": "stream",
     "text": [
      "{'data': [{'_id': '6648de75c4236336391ede05', 'name': 'John', 'age': 30}, {'_id': '6648de75c4236336391ede06', 'name': 'John', 'age': 30}, {'_id': '6648e010a02c3e792688733a', 'name': 'John', 'age': 30}, {'_id': '6648e010a02c3e792688733b', 'name': 'John', 'age': 30}]}\n"
     ]
    }
   ],
   "source": [
    "response = requests.get(\"http://localhost:8000/get_data/name/John\")\n",
    "print(response.json())"
   ]
  }
 ],
 "metadata": {
  "kernelspec": {
   "display_name": ".venv",
   "language": "python",
   "name": "python3"
  },
  "language_info": {
   "codemirror_mode": {
    "name": "ipython",
    "version": 3
   },
   "file_extension": ".py",
   "mimetype": "text/x-python",
   "name": "python",
   "nbconvert_exporter": "python",
   "pygments_lexer": "ipython3",
   "version": "3.12.2"
  }
 },
 "nbformat": 4,
 "nbformat_minor": 2
}
